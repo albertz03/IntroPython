{
 "cells": [
  {
   "cell_type": "markdown",
   "metadata": {},
   "source": [
    "# variables \n",
    "### sesión miercoles 9 de febrero del 2020"
   ]
  },
  {
   "cell_type": "code",
   "execution_count": 2,
   "metadata": {},
   "outputs": [
    {
     "name": "stdout",
     "output_type": "stream",
     "text": [
      "Hola explorers!\n"
     ]
    }
   ],
   "source": [
    "# hola con variable anonima\n",
    "print('Hola explorers!')"
   ]
  },
  {
   "cell_type": "code",
   "execution_count": 3,
   "metadata": {},
   "outputs": [
    {
     "name": "stdout",
     "output_type": "stream",
     "text": [
      "Hola explorers!\n"
     ]
    }
   ],
   "source": [
    "# hola con una variable\n",
    "msg = 'Hola explorers!'\n",
    "print(msg)"
   ]
  },
  {
   "cell_type": "markdown",
   "metadata": {},
   "source": [
    "las variables se definen:\n",
    "- tipo: String/implicito\n",
    "- valor: 'Hola explorers!'\n",
    "- nombre: 'msg' o Anonima\n"
   ]
  },
  {
   "cell_type": "markdown",
   "metadata": {},
   "source": [
    "## Programando Hotcakes"
   ]
  },
  {
   "cell_type": "code",
   "execution_count": 25,
   "metadata": {},
   "outputs": [],
   "source": [
    "titulo = 'programando hotcakes'\n",
    "huevo = 3\n",
    "leche = 1.5\n",
    "mantequilla = 0.045\n",
    "harina = 3\n",
    "cditaVainilla = 0.015\n",
    "\n",
    "# Asignamos los espacios en la memoria de l programa para nuestros ingredientes"
   ]
  },
  {
   "cell_type": "code",
   "execution_count": 10,
   "metadata": {},
   "outputs": [
    {
     "name": "stdout",
     "output_type": "stream",
     "text": [
      "1.5\n"
     ]
    }
   ],
   "source": [
    "print(leche)"
   ]
  },
  {
   "cell_type": "code",
   "execution_count": 11,
   "metadata": {},
   "outputs": [
    {
     "name": "stdout",
     "output_type": "stream",
     "text": [
      "Cantidad de lece: 1.5\n"
     ]
    }
   ],
   "source": [
    "print('Cantidad de lece: '+str(leche))"
   ]
  },
  {
   "cell_type": "code",
   "execution_count": 12,
   "metadata": {},
   "outputs": [
    {
     "name": "stdout",
     "output_type": "stream",
     "text": [
      "Cantidad de lece: 1.5 Cantidad de huevo: 3\n"
     ]
    }
   ],
   "source": [
    "print('Cantidad de lece: '+str(leche)+' Cantidad de huevo: '+str(huevo))"
   ]
  },
  {
   "cell_type": "code",
   "execution_count": 13,
   "metadata": {},
   "outputs": [
    {
     "name": "stdout",
     "output_type": "stream",
     "text": [
      "Cantidad de lece: 1.5\n",
      "Cantidad de huevo: 3\n"
     ]
    }
   ],
   "source": [
    "# con retorno de carro '\\n'\n",
    "print('Cantidad de lece: '+str(leche)+'\\nCantidad de huevo: '+str(huevo))"
   ]
  },
  {
   "cell_type": "code",
   "execution_count": 14,
   "metadata": {},
   "outputs": [
    {
     "name": "stdout",
     "output_type": "stream",
     "text": [
      "7.56\n"
     ]
    }
   ],
   "source": [
    "# Mezclamos los ingredientes\n",
    "mezcla = huevo + leche + harina + mantequilla + cditaVainilla\n",
    "print(mezcla)"
   ]
  },
  {
   "cell_type": "code",
   "execution_count": 26,
   "metadata": {},
   "outputs": [],
   "source": [
    "# Reglas . Condiciones\n",
    "\n",
    "# huevo = 3\n",
    "# leche = 1.5\n",
    "# mantequilla = 0.045\n",
    "# harina = 3\n",
    "# cditaVainilla = 0.015\n",
    "\n",
    "if (huevo >= 4):\n",
    "    print('La cantidad de huevo no es correcta')"
   ]
  },
  {
   "cell_type": "code",
   "execution_count": 35,
   "metadata": {},
   "outputs": [
    {
     "name": "stdout",
     "output_type": "stream",
     "text": [
      "cantidad de huevo correcta\n"
     ]
    }
   ],
   "source": [
    "# Sentencia if + elif (arreglo tipo or)\n",
    "\n",
    "if (huevo == 3):\n",
    "    print('cantidad de huevo correcta')\n",
    "elif (leche == 1.5):\n",
    "    print('cantidad de leche correcta')\n",
    "elif (mantequilla == 0.045):\n",
    "    print('cantidad de mantequilla correcta')\n",
    "else:\n",
    "    print('cantidad incorrecta - Revisa tus ingredientes!')"
   ]
  },
  {
   "cell_type": "code",
   "execution_count": 23,
   "metadata": {},
   "outputs": [
    {
     "name": "stdout",
     "output_type": "stream",
     "text": [
      "cantidad incorrecta\n"
     ]
    }
   ],
   "source": [
    "# Sentencia if + else\n",
    "\n",
    "if (huevo == 3):\n",
    "    print('cantidad correcta')\n",
    "else:\n",
    "    print('cantidad incorrecta')"
   ]
  },
  {
   "cell_type": "code",
   "execution_count": 34,
   "metadata": {},
   "outputs": [
    {
     "name": "stdout",
     "output_type": "stream",
     "text": [
      "La mezcla alcanzo para 2.52 hotcakes por persona\n"
     ]
    }
   ],
   "source": [
    "# Repartirlos\n",
    "\n",
    "porcion = mezcla / 3\n",
    "print('La mezcla alcanzo para '+str(porcion)+ ' hotcakes por persona')"
   ]
  },
  {
   "cell_type": "markdown",
   "metadata": {},
   "source": [
    "## Cadenas\n",
    "serie de caracteres, entre comillas dobles \"\" o simples ''"
   ]
  },
  {
   "cell_type": "code",
   "execution_count": 36,
   "metadata": {},
   "outputs": [
    {
     "name": "stdout",
     "output_type": "stream",
     "text": [
      "Ada Lovelace\n"
     ]
    }
   ],
   "source": [
    "# String\n",
    "name = 'Ada Lovelace'\n",
    "print(name.title())"
   ]
  },
  {
   "cell_type": "code",
   "execution_count": 37,
   "metadata": {},
   "outputs": [
    {
     "name": "stdout",
     "output_type": "stream",
     "text": [
      "ADA LOVELACE\n"
     ]
    }
   ],
   "source": [
    "print(name.upper())\n",
    "# Upper convierte a mayus"
   ]
  },
  {
   "cell_type": "code",
   "execution_count": 38,
   "metadata": {},
   "outputs": [
    {
     "name": "stdout",
     "output_type": "stream",
     "text": [
      "ada lovelace\n"
     ]
    }
   ],
   "source": [
    "print(name.lower())\n",
    "# lower convierte a mins"
   ]
  },
  {
   "cell_type": "code",
   "execution_count": 40,
   "metadata": {},
   "outputs": [
    {
     "name": "stdout",
     "output_type": "stream",
     "text": [
      "True\n",
      "ada lovelace\n"
     ]
    }
   ],
   "source": [
    "name = name.lower()\n",
    "print(name.islower())\n",
    "print(name)\n",
    "#comprueba si esta en minusculas"
   ]
  },
  {
   "cell_type": "code",
   "execution_count": 41,
   "metadata": {},
   "outputs": [
    {
     "name": "stdout",
     "output_type": "stream",
     "text": [
      "ada                 lovelace   \n"
     ]
    }
   ],
   "source": [
    "first_name = 'ada'\n",
    "last_name = '                 lovelace   '\n",
    "print(first_name + \" \" +last_name)"
   ]
  },
  {
   "cell_type": "code",
   "execution_count": 44,
   "metadata": {},
   "outputs": [
    {
     "name": "stdout",
     "output_type": "stream",
     "text": [
      "ada lovelace\n"
     ]
    }
   ],
   "source": [
    "# Quitar todos los espacios\n",
    "last_name = last_name.strip()\n",
    "print(first_name + \" \" +last_name)"
   ]
  },
  {
   "cell_type": "code",
   "execution_count": 45,
   "metadata": {},
   "outputs": [
    {
     "name": "stdout",
     "output_type": "stream",
     "text": [
      "ada lovelace   \n"
     ]
    }
   ],
   "source": [
    "# Elimina espacios al inicio \"lstrip()\"\n",
    "last_name= '              lovelace   '\n",
    "last_name = last_name.lstrip()\n",
    "print(first_name + \" \" +last_name)"
   ]
  },
  {
   "cell_type": "code",
   "execution_count": 46,
   "metadata": {},
   "outputs": [
    {
     "name": "stdout",
     "output_type": "stream",
     "text": [
      "ada lovelace\n"
     ]
    }
   ],
   "source": [
    "# Elimina espacios al final  \"lstrip()\"\n",
    "last_name = last_name.rstrip()\n",
    "print(first_name + \" \" +last_name)"
   ]
  },
  {
   "cell_type": "code",
   "execution_count": 49,
   "metadata": {},
   "outputs": [
    {
     "name": "stdout",
     "output_type": "stream",
     "text": [
      "ALBERTO VALDEZ\n"
     ]
    }
   ],
   "source": [
    "nombre = 'Alberto'\n",
    "apellido = 'Valdez'\n",
    "nombre_completo = f'{nombre.upper()} {apellido.upper()}'\n",
    "print(nombre_completo)"
   ]
  },
  {
   "cell_type": "markdown",
   "metadata": {},
   "source": [
    "## Listas \n",
    "Almacena una serie de elementos"
   ]
  },
  {
   "cell_type": "code",
   "execution_count": 67,
   "metadata": {},
   "outputs": [],
   "source": [
    "ingredientes = ['huevo','harina','leche']"
   ]
  },
  {
   "cell_type": "code",
   "execution_count": 58,
   "metadata": {},
   "outputs": [
    {
     "data": {
      "text/plain": [
       "'huevo'"
      ]
     },
     "execution_count": 58,
     "metadata": {},
     "output_type": "execute_result"
    }
   ],
   "source": [
    "# Primer elemento\n",
    "ingredientes[0]"
   ]
  },
  {
   "cell_type": "code",
   "execution_count": 52,
   "metadata": {},
   "outputs": [
    {
     "data": {
      "text/plain": [
       "'leche'"
      ]
     },
     "execution_count": 52,
     "metadata": {},
     "output_type": "execute_result"
    }
   ],
   "source": [
    "# Ultimo elemento\n",
    "ingredientes[-1]"
   ]
  },
  {
   "cell_type": "code",
   "execution_count": 68,
   "metadata": {},
   "outputs": [
    {
     "name": "stdout",
     "output_type": "stream",
     "text": [
      "['huevo', 'harina', 'leche', 'mantequilla']\n"
     ]
    }
   ],
   "source": [
    "# Append()\n",
    "ingredientes.append('mantequilla')\n",
    "print(ingredientes)"
   ]
  },
  {
   "cell_type": "code",
   "execution_count": 70,
   "metadata": {},
   "outputs": [
    {
     "name": "stdout",
     "output_type": "stream",
     "text": [
      "['huevo', 'harina', 'vainilla', 'vainilla', 'leche', 'mantequilla']\n"
     ]
    }
   ],
   "source": [
    "# Insert\n",
    "ingredientes.insert(2,'vainilla')\n",
    "print(ingredientes)"
   ]
  },
  {
   "cell_type": "code",
   "execution_count": 71,
   "metadata": {},
   "outputs": [
    {
     "name": "stdout",
     "output_type": "stream",
     "text": [
      "['huevo', 'harina', 'vainilla', 'leche', 'mantequilla']\n"
     ]
    }
   ],
   "source": [
    "# Pop (elimina por posicion)\n",
    "ingredientes.pop(3)\n",
    "print(ingredientes)"
   ]
  },
  {
   "cell_type": "code",
   "execution_count": 72,
   "metadata": {},
   "outputs": [
    {
     "name": "stdout",
     "output_type": "stream",
     "text": [
      "['huevo', 'vainilla', 'leche', 'mantequilla']\n"
     ]
    }
   ],
   "source": [
    "#Remove (elimina por valor)\n",
    "ingredientes.remove('harina')\n",
    "print(ingredientes)"
   ]
  },
  {
   "cell_type": "code",
   "execution_count": 73,
   "metadata": {},
   "outputs": [
    {
     "name": "stdout",
     "output_type": "stream",
     "text": [
      "['huevo', 'leche', 'mantequilla', 'vainilla']\n"
     ]
    }
   ],
   "source": [
    "# Sort A-Z\n",
    "ingredientes.sort()\n",
    "print(ingredientes)"
   ]
  },
  {
   "cell_type": "code",
   "execution_count": 74,
   "metadata": {},
   "outputs": [
    {
     "name": "stdout",
     "output_type": "stream",
     "text": [
      "['vainilla', 'mantequilla', 'leche', 'huevo']\n"
     ]
    }
   ],
   "source": [
    "# Reverse Z-A\n",
    "\n",
    "ingredientes.reverse()\n",
    "print(ingredientes)"
   ]
  },
  {
   "cell_type": "code",
   "execution_count": 75,
   "metadata": {},
   "outputs": [
    {
     "data": {
      "text/plain": [
       "4"
      ]
     },
     "execution_count": 75,
     "metadata": {},
     "output_type": "execute_result"
    }
   ],
   "source": [
    "#longitud\n",
    "len(ingredientes)"
   ]
  },
  {
   "cell_type": "code",
   "execution_count": 76,
   "metadata": {},
   "outputs": [
    {
     "name": "stdout",
     "output_type": "stream",
     "text": [
      "huevo\n"
     ]
    }
   ],
   "source": [
    "# Ultimo elemento\n",
    "print(ingredientes[-1])"
   ]
  },
  {
   "cell_type": "code",
   "execution_count": 82,
   "metadata": {},
   "outputs": [
    {
     "name": "stdout",
     "output_type": "stream",
     "text": [
      "['vainilla', 'mantequilla']\n"
     ]
    }
   ],
   "source": [
    "# Slicing\n",
    "primeros_dos = ingredientes[:2]\n",
    "print(primeros_dos)"
   ]
  },
  {
   "cell_type": "code",
   "execution_count": 83,
   "metadata": {},
   "outputs": [
    {
     "name": "stdout",
     "output_type": "stream",
     "text": [
      "['vainilla', 'mantequilla', 'leche', 'huevo']\n"
     ]
    }
   ],
   "source": [
    "# Copiar lista\n",
    "copia_ingredientes = ingredientes[:]\n",
    "print(copia_ingredientes)"
   ]
  },
  {
   "cell_type": "markdown",
   "metadata": {},
   "source": [
    "## Tuplas\n",
    "Las tuplas son similares a las listas, pero los elementos de una tupla no se pueden modificar."
   ]
  },
  {
   "cell_type": "code",
   "execution_count": 84,
   "metadata": {},
   "outputs": [
    {
     "name": "stdout",
     "output_type": "stream",
     "text": [
      "1080\n",
      "720\n"
     ]
    }
   ],
   "source": [
    "dimensiones = (1080,720)\n",
    "print(dimensiones[0])\n",
    "print(dimensiones[1])"
   ]
  },
  {
   "cell_type": "code",
   "execution_count": 85,
   "metadata": {},
   "outputs": [
    {
     "ename": "TypeError",
     "evalue": "'tuple' object does not support item assignment",
     "output_type": "error",
     "traceback": [
      "\u001b[1;31m---------------------------------------------------------------------------\u001b[0m",
      "\u001b[1;31mTypeError\u001b[0m                                 Traceback (most recent call last)",
      "\u001b[1;32mc:\\Users\\gener\\Documents\\VISUAL\\Launch_Sesion_09-02-22\\intro.ipynb Cell 42'\u001b[0m in \u001b[0;36m<module>\u001b[1;34m\u001b[0m\n\u001b[1;32m----> <a href='vscode-notebook-cell:/c%3A/Users/gener/Documents/VISUAL/Launch_Sesion_09-02-22/intro.ipynb#ch0000045?line=0'>1</a>\u001b[0m dimensiones[\u001b[39m1\u001b[39m] \u001b[39m=\u001b[39m \u001b[39m1080\u001b[39m\n",
      "\u001b[1;31mTypeError\u001b[0m: 'tuple' object does not support item assignment"
     ]
    }
   ],
   "source": [
    "#No se modifican valor a valor!\n",
    "dimensiones[1] = 1080"
   ]
  },
  {
   "cell_type": "code",
   "execution_count": 86,
   "metadata": {},
   "outputs": [
    {
     "name": "stdout",
     "output_type": "stream",
     "text": [
      "Dimensiones originales\n",
      "1080\n",
      "720\n"
     ]
    }
   ],
   "source": [
    "print('Dimensiones originales')\n",
    "for dim in dimensiones:\n",
    "    print(dim)"
   ]
  },
  {
   "cell_type": "code",
   "execution_count": 87,
   "metadata": {},
   "outputs": [
    {
     "name": "stdout",
     "output_type": "stream",
     "text": [
      "(1080, 1080)\n"
     ]
    }
   ],
   "source": [
    "# Las tuplas solo pueden modificarse solo si se hace en su totalidad\n",
    "dimensiones = (1080,1080)\n",
    "print(dimensiones)"
   ]
  },
  {
   "cell_type": "code",
   "execution_count": 88,
   "metadata": {},
   "outputs": [
    {
     "name": "stdout",
     "output_type": "stream",
     "text": [
      "1080\n",
      "1080\n"
     ]
    }
   ],
   "source": [
    "for d in dimensiones:\n",
    "    print(d)"
   ]
  },
  {
   "cell_type": "code",
   "execution_count": 93,
   "metadata": {},
   "outputs": [
    {
     "name": "stdout",
     "output_type": "stream",
     "text": [
      "Añadiendo ingredientes a la orden: crema de chocolate\n",
      "Añadiendo ingredientes a la orden: chispas\n",
      "Añadiendo ingredientes a la orden: relleno de crema\n",
      "Añadiendo ingredientes a la orden: nueces\n",
      "\n",
      " Tu cupcake esta listo!\n"
     ]
    }
   ],
   "source": [
    "## Cupcake decoracion\n",
    "\n",
    "el_cliente_quiere = ['crema de chocolate', 'chispas', 'relleno de crema', 'nueces']\n",
    "\n",
    "for extra in el_cliente_quiere:\n",
    "    print(f'Añadiendo ingredientes a la orden: {extra}')\n",
    "\n",
    "print('\\n Tu cupcake esta listo!')"
   ]
  },
  {
   "cell_type": "code",
   "execution_count": 101,
   "metadata": {},
   "outputs": [
    {
     "name": "stdout",
     "output_type": "stream",
     "text": [
      "Añadiendo ingredientes a la orden: crema de chocolate\n",
      "Añadiendo ingredientes a la orden: chispas\n",
      "Añadiendo ingredientes a la orden: relleno de crema\n",
      "Lo sentimos, no tenemos nueces, puedes agregar almentras :)\n",
      "\n",
      " Tu cupcake esta listo!\n"
     ]
    }
   ],
   "source": [
    "## No hay un ingrediente disponible\n",
    "\n",
    "el_cliente_quiere = ['crema de chocolate', 'chispas', 'relleno de crema', 'nueces']\n",
    "\n",
    "for extra in el_cliente_quiere:\n",
    "    if extra == 'nueces':\n",
    "        print('Lo sentimos, no tenemos nueces, puedes agregar almentras :)')\n",
    "    else:\n",
    "        print(f'Añadiendo ingredientes a la orden: {extra}')\n",
    "print('\\n Tu cupcake esta listo!')"
   ]
  },
  {
   "cell_type": "code",
   "execution_count": 104,
   "metadata": {},
   "outputs": [
    {
     "name": "stdout",
     "output_type": "stream",
     "text": [
      "Añadiendo crema de chocolate.\n",
      "Añadiendo chispas.\n",
      "Añadiendo relleno de crema.\n",
      "Lo sentimos, no tenemos nueces\n",
      "Lo sentimos, no tenemos amaranto\n",
      "\n",
      "Tu Cupcake esta listo\n"
     ]
    }
   ],
   "source": [
    "# ¿Como podemos saber que ingredientes si estan disponibles?\n",
    "\n",
    "extras_disponibles = ['crema de chocolate', 'almentdras', 'perlas', 'chispas', 'relleno de crema', 'ralladura de limon', 'canela']\n",
    "\n",
    "el_cliente_quiere = ['crema de chocolate', 'chispas', 'relleno de crema', 'nueces','amaranto']\n",
    "\n",
    "for extra in el_cliente_quiere:\n",
    "    if extra in extras_disponibles:\n",
    "        print(f'Añadiendo {extra}.')\n",
    "    else:\n",
    "        print(f'Lo sentimos, no tenemos {extra}')\n",
    "print('\\nTu Cupcake esta listo')"
   ]
  }
 ],
 "metadata": {
  "interpreter": {
   "hash": "8a65da5507939b32cb6f5f193d944e411ac74ac51b4be6738b2734bd853b7b53"
  },
  "kernelspec": {
   "display_name": "Python 3.10.2 64-bit (windows store)",
   "language": "python",
   "name": "python3"
  },
  "language_info": {
   "codemirror_mode": {
    "name": "ipython",
    "version": 3
   },
   "file_extension": ".py",
   "mimetype": "text/x-python",
   "name": "python",
   "nbconvert_exporter": "python",
   "pygments_lexer": "ipython3",
   "version": "3.10.2"
  },
  "orig_nbformat": 4
 },
 "nbformat": 4,
 "nbformat_minor": 2
}
